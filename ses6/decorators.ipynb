{
 "cells": [
  {
   "cell_type": "markdown",
   "metadata": {},
   "source": [
    "Decorators"
   ]
  },
  {
   "cell_type": "code",
   "execution_count": 5,
   "metadata": {},
   "outputs": [
    {
     "name": "stdout",
     "output_type": "stream",
     "text": [
      "Hello\n"
     ]
    }
   ],
   "source": [
    "def foo():\n",
    "    print('Hello')\n",
    "\n",
    "foo()"
   ]
  },
  {
   "cell_type": "code",
   "execution_count": 4,
   "metadata": {},
   "outputs": [
    {
     "name": "stdout",
     "output_type": "stream",
     "text": [
      "Hello\n",
      "None\n"
     ]
    }
   ],
   "source": [
    "print(foo())"
   ]
  },
  {
   "cell_type": "code",
   "execution_count": 10,
   "metadata": {},
   "outputs": [
    {
     "name": "stdout",
     "output_type": "stream",
     "text": [
      "HelloHello\n",
      "10\n",
      "11.0\n",
      "2\n"
     ]
    }
   ],
   "source": [
    "def add(num):\n",
    "    return num + num\n",
    "\n",
    "print(add('Hello'))\n",
    "print(add(5))\n",
    "print(add(5.5))\n",
    "print(add(True))\n",
    "\n"
   ]
  },
  {
   "cell_type": "code",
   "execution_count": 11,
   "metadata": {},
   "outputs": [
    {
     "name": "stdout",
     "output_type": "stream",
     "text": [
      "54\n"
     ]
    }
   ],
   "source": [
    "def add(*args):\n",
    "    return sum(args)\n",
    "\n",
    "print(add(1,2,5,2,16,21,5,2))\n"
   ]
  },
  {
   "cell_type": "code",
   "execution_count": null,
   "metadata": {},
   "outputs": [],
   "source": [
    "def add(a:int) -> int:\n",
    "    return sum(a)\n"
   ]
  },
  {
   "cell_type": "code",
   "execution_count": 13,
   "metadata": {},
   "outputs": [
    {
     "data": {
      "text/plain": [
       "<function len(obj, /)>"
      ]
     },
     "execution_count": 13,
     "metadata": {},
     "output_type": "execute_result"
    }
   ],
   "source": [
    "def foo(x):\n",
    "    return x\n",
    "\n",
    "foo(len)"
   ]
  },
  {
   "cell_type": "code",
   "execution_count": 26,
   "metadata": {},
   "outputs": [
    {
     "name": "stdout",
     "output_type": "stream",
     "text": [
      "Inside foo.\n",
      "Inside bar.\n"
     ]
    },
    {
     "data": {
      "text/plain": [
       "<function __main__.foo.<locals>.bar.<locals>.baz()>"
      ]
     },
     "execution_count": 26,
     "metadata": {},
     "output_type": "execute_result"
    }
   ],
   "source": [
    "def outer():\n",
    "    print('Outer is run')\n",
    "    \n",
    "    def inner():\n",
    "        print('Hello from inner')\n",
    "    \n",
    "    return inner\n",
    "\n",
    "foo()()"
   ]
  },
  {
   "cell_type": "code",
   "execution_count": 24,
   "metadata": {},
   "outputs": [
    {
     "name": "stdout",
     "output_type": "stream",
     "text": [
      "Inside foo.\n",
      "Inside bar.\n",
      "Inside baz.\n"
     ]
    }
   ],
   "source": [
    "def foo():\n",
    "    print(\"Inside foo.\")\n",
    "\n",
    "    def bar():\n",
    "        print(\"Inside bar.\")\n",
    "\n",
    "        def baz():\n",
    "            print(\"Inside baz.\")\n",
    "        \n",
    "        return baz\n",
    "\n",
    "    return bar\n",
    "\n",
    "foo()()()"
   ]
  },
  {
   "cell_type": "code",
   "execution_count": 42,
   "metadata": {},
   "outputs": [],
   "source": [
    "def mydecorator(func):\n",
    "\n",
    "    def wrapper(*args):\n",
    "\n",
    "        x = 'Hello from wrapper - '\n",
    "        x += func(args)\n",
    "        x += '- end of wrapper'\n",
    "\n",
    "        return x\n",
    "    \n",
    "    return wrapper"
   ]
  },
  {
   "cell_type": "code",
   "execution_count": 44,
   "metadata": {},
   "outputs": [],
   "source": [
    "def message(*args):\n",
    "    return f'Hello {args}'"
   ]
  },
  {
   "cell_type": "code",
   "execution_count": 46,
   "metadata": {},
   "outputs": [
    {
     "data": {
      "text/plain": [
       "\"Hello from wrapper - Hello from wrapper - Hello (('Kristian', 'Goddag'),)- end of wrapper- end of wrapper\""
      ]
     },
     "execution_count": 46,
     "metadata": {},
     "output_type": "execute_result"
    }
   ],
   "source": [
    "message = mydecorator(message) #Hello\n",
    "\n",
    "message('Kristian','Goddag')"
   ]
  },
  {
   "cell_type": "code",
   "execution_count": 47,
   "metadata": {},
   "outputs": [
    {
     "name": "stdout",
     "output_type": "stream",
     "text": [
      "6\n",
      "15\n"
     ]
    }
   ],
   "source": [
    "from datetime import datetime\n",
    "\n",
    "# Define the decorator\n",
    "def log_time(func):\n",
    "    def wrapper(*args, **kwargs):\n",
    "        # Get the current time and format it\n",
    "        now = datetime.now().strftime('%Y-%m-%d %H:%M:%S')\n",
    "        \n",
    "        # Write to the log file\n",
    "        with open(\"log.txt\", \"a\") as f:\n",
    "            f.write(f\"{now} - Called function {func.__name__}\\n\")\n",
    "        \n",
    "        # Call the original function\n",
    "        return func(*args, **kwargs)\n",
    "    \n",
    "    return wrapper\n",
    "\n",
    "# Apply the decorator to the add function\n",
    "@log_time\n",
    "def add(*args):\n",
    "    return sum(args)\n",
    "\n",
    "# Test the function and decorator\n",
    "print(add(1, 2, 3))\n",
    "print(add(4, 5, 6))\n",
    "\n",
    "# Now you can check the \"log.txt\" file to see the log"
   ]
  },
  {
   "cell_type": "code",
   "execution_count": 48,
   "metadata": {},
   "outputs": [
    {
     "name": "stdout",
     "output_type": "stream",
     "text": [
      "6\n",
      "15\n"
     ]
    }
   ],
   "source": [
    "from datetime import datetime\n",
    "\n",
    "def log_time(func):\n",
    "    def wrapper(*args, **kwargs):\n",
    "        now = datetime.now().strftime('%Y-%m-%d %H:%M:%S')\n",
    "        \n",
    "        arg_values = ', '.join(map(str, args))  # Convert all arguments to strings and join them\n",
    "        with open(\"log.txt\", \"a\") as f:\n",
    "            f.write(f\"{now} - Called function {func.__name__} with arguments: {arg_values}\\n\")\n",
    "        \n",
    "        return func(*args, **kwargs)\n",
    "    \n",
    "    return wrapper\n",
    "\n",
    "@log_time\n",
    "def add(*args):\n",
    "    return sum(args)\n",
    "\n",
    "print(add(1, 2, 3))\n",
    "print(add(4, 5, 6))\n"
   ]
  },
  {
   "cell_type": "code",
   "execution_count": 50,
   "metadata": {},
   "outputs": [
    {
     "name": "stdout",
     "output_type": "stream",
     "text": [
      "6\n",
      "15\n"
     ]
    }
   ],
   "source": [
    "from datetime import datetime\n",
    "\n",
    "def log_time(func):\n",
    "    def wrapper(*args, **kwargs):\n",
    "        now = datetime.now().strftime('%Y-%m-%d %H:%M:%S')\n",
    "        \n",
    "        arg_values = ', '.join(map(str, args))\n",
    "        \n",
    "        result = func(*args, **kwargs)  # Capture the result of the original function\n",
    "        \n",
    "        with open(\"log.txt\", \"a\") as f:\n",
    "            f.write(f\"{now} - Called function {func.__name__} with arguments: {arg_values}. Result: {result}\\n\")\n",
    "        \n",
    "        return result  # Return the original function's result\n",
    "    \n",
    "    return wrapper\n",
    "\n",
    "@log_time\n",
    "def add(*args):\n",
    "    return sum(args)\n",
    "\n",
    "print(add(1, 2, 3))\n",
    "print(add(4, 5, 6))\n"
   ]
  },
  {
   "cell_type": "code",
   "execution_count": 51,
   "metadata": {},
   "outputs": [
    {
     "name": "stdout",
     "output_type": "stream",
     "text": [
      "Hello, world!\n"
     ]
    }
   ],
   "source": [
    "from datetime import datetime\n",
    "\n",
    "# Existing log_time decorator\n",
    "def log_time(func):\n",
    "    def wrapper(*args, **kwargs):\n",
    "        now = datetime.now().strftime('%Y-%m-%d %H:%M:%S')\n",
    "        \n",
    "        arg_values = ', '.join(map(str, args))\n",
    "        \n",
    "        result = func(*args, **kwargs)\n",
    "        \n",
    "        with open(\"log.txt\", \"a\") as f:\n",
    "            f.write(f\"{now} - Called function {func.__name__} with arguments: {arg_values}. Result: {result}\\n\")\n",
    "        \n",
    "        return result\n",
    "    \n",
    "    return wrapper\n",
    "\n",
    "# New printer function\n",
    "@log_time\n",
    "def printer(text):\n",
    "    return text\n",
    "\n",
    "# Test the decorated printer function\n",
    "print(printer(\"Hello, world!\"))\n",
    "\n",
    "# Check the \"log.txt\" file to see the new log entry for the printer function\n"
   ]
  },
  {
   "cell_type": "code",
   "execution_count": null,
   "metadata": {},
   "outputs": [],
   "source": []
  }
 ],
 "metadata": {
  "kernelspec": {
   "display_name": ".venv",
   "language": "python",
   "name": "python3"
  },
  "language_info": {
   "codemirror_mode": {
    "name": "ipython",
    "version": 3
   },
   "file_extension": ".py",
   "mimetype": "text/x-python",
   "name": "python",
   "nbconvert_exporter": "python",
   "pygments_lexer": "ipython3",
   "version": "3.11.4"
  },
  "orig_nbformat": 4
 },
 "nbformat": 4,
 "nbformat_minor": 2
}

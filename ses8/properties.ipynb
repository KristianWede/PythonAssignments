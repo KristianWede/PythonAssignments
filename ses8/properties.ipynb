{
 "cells": [
  {
   "cell_type": "code",
   "execution_count": 21,
   "metadata": {},
   "outputs": [],
   "source": [
    "class Number:\n",
    "\n",
    "    def __init__(self, value):\n",
    "        self.setX(value)\n",
    "        \n",
    "    def getX(self):\n",
    "        return self.x\n",
    "    \n",
    "    def setX(self,value):\n",
    "        if value >= 0 and value <= 100:\n",
    "            self.x = value\n",
    "        else:\n",
    "            raise ValueError('Value has to be between 0 and 100')"
   ]
  },
  {
   "cell_type": "code",
   "execution_count": 24,
   "metadata": {},
   "outputs": [],
   "source": [
    "class Number:\n",
    "    def __init__(self,value):\n",
    "        self.x = value\n",
    "\n",
    "    @property\n",
    "    def x(self):\n",
    "        return self._x\n",
    "    \n",
    "    @x.setter\n",
    "    def x(self,value):\n",
    "        self._x = value"
   ]
  },
  {
   "cell_type": "code",
   "execution_count": null,
   "metadata": {},
   "outputs": [],
   "source": []
  },
  {
   "cell_type": "code",
   "execution_count": 25,
   "metadata": {},
   "outputs": [
    {
     "data": {
      "text/plain": [
       "-66"
      ]
     },
     "execution_count": 25,
     "metadata": {},
     "output_type": "execute_result"
    }
   ],
   "source": [
    "num = Number(-66)\n",
    "num.x\n",
    "num.x"
   ]
  },
  {
   "cell_type": "code",
   "execution_count": 28,
   "metadata": {},
   "outputs": [],
   "source": [
    "class Bank:\n",
    "    def __init__(self):\n",
    "        self.accounts = []\n",
    "\n",
    "    @property\n",
    "    def accounts(self):\n",
    "        return self.accounts\n",
    "\n",
    "    def add_account(self, account):\n",
    "        self.accounts.append(account)\n",
    "\n",
    "class Account:\n",
    "    def __init__(self, no, cust):\n",
    "        self.no = no\n",
    "        self.cust = cust\n",
    "\n",
    "class Customer:\n",
    "    def __init__(self, name, age):\n",
    "        self.name = name\n",
    "        if age < 18:\n",
    "            raise ValueError('User has to be 18 or older.')\n",
    "        else:\n",
    "            self.age = age\n",
    "        self.account = None\n",
    "\n",
    "    @property\n",
    "    def account(self):\n",
    "        return self._account\n",
    "\n",
    "    @account.setter\n",
    "    def account(self, new_account):\n",
    "        if self._account is None:\n",
    "            self._account = new_account\n",
    "        else:\n",
    "            raise ValueError('You cannot have more than 1 account.')\n"
   ]
  },
  {
   "cell_type": "code",
   "execution_count": 49,
   "metadata": {},
   "outputs": [],
   "source": [
    "class C:\n",
    "    def __init__(self, value):\n",
    "        self._x = None\n",
    "        self.x = value  # This will call the @x.setter method, which includes the validation\n",
    "\n",
    "    @property\n",
    "    def x(self):\n",
    "        return self._x\n",
    "\n",
    "    @x.setter\n",
    "    def x(self, value):\n",
    "        if value <= 100 and value >= 0:\n",
    "            self._x = value\n",
    "        else:\n",
    "            raise ValueError('value should be between 0 and 100')\n"
   ]
  },
  {
   "cell_type": "code",
   "execution_count": 53,
   "metadata": {},
   "outputs": [
    {
     "name": "stdout",
     "output_type": "stream",
     "text": [
      "12\n",
      "56\n"
     ]
    }
   ],
   "source": [
    "instance1 = C(12)\n",
    "print(instance1.x)\n",
    "instance1.x = 56\n",
    "print(instance1.x)"
   ]
  }
 ],
 "metadata": {
  "kernelspec": {
   "display_name": ".venv",
   "language": "python",
   "name": "python3"
  },
  "language_info": {
   "codemirror_mode": {
    "name": "ipython",
    "version": 3
   },
   "file_extension": ".py",
   "mimetype": "text/x-python",
   "name": "python",
   "nbconvert_exporter": "python",
   "pygments_lexer": "ipython3",
   "version": "3.11.4"
  }
 },
 "nbformat": 4,
 "nbformat_minor": 2
}
